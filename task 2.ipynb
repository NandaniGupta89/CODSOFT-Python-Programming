{
 "cells": [
  {
   "cell_type": "markdown",
   "id": "afbf850a",
   "metadata": {},
   "source": [
    "# Task 2 - Simple calculator"
   ]
  },
  {
   "cell_type": "code",
   "execution_count": 2,
   "id": "45bdecf7",
   "metadata": {},
   "outputs": [
    {
     "name": "stdout",
     "output_type": "stream",
     "text": [
      "\n",
      "Simple Calculator.\n",
      "\n",
      "1: Enter 1 to add two numbers.\n",
      "2: Enter 2 to subtract two numbers.\n",
      "3: Enter 3 to multiply two numbers.\n",
      "4: Enter 4 to divide two numbers.\n",
      "5: Enter 5 for exit.\n",
      "\n",
      "What do you want to do?(1,2,3,4,5): 1\n",
      "Enter first number: 2\n",
      "Enter second number: 2\n",
      "The sum is 4\n",
      "\n",
      "What do you want to do?(1,2,3,4,5): 2\n",
      "Enter first number: 2\n",
      "Enter second number: 1\n",
      "The difference is 1\n",
      "\n",
      "What do you want to do?(1,2,3,4,5): 3\n",
      "Enter first number: 3\n",
      "Enter second number: 3\n",
      "The multiplication is 9\n",
      "\n",
      "What do you want to do?(1,2,3,4,5): 4\n",
      "Enter first number: 5\n",
      "Enter second number: 5\n",
      "The division is 1.0\n",
      "\n",
      "What do you want to do?(1,2,3,4,5): 5\n",
      "\n",
      "Are you sure to exit?(Y/N):y\n",
      "Exit.\n"
     ]
    }
   ],
   "source": [
    "print(\"\\nSimple Calculator.\")\n",
    "Task = \"\\n1: Enter 1 to add two numbers.\\n2: Enter 2 to subtract two numbers.\\n3: Enter 3 to multiply two numbers.\\n4: Enter 4 to divide two numbers.\\n5: Enter 5 for exit.\"\n",
    "print(Task)\n",
    "running = True\n",
    "while running:\n",
    "    operation = input(\"\\nWhat do you want to do?(1,2,3,4,5): \")\n",
    "\n",
    "    if operation == '1':\n",
    "\n",
    "        num1 = input(\"Enter first number: \")\n",
    "        num2 = input(\"Enter second number: \")\n",
    "\n",
    "        print(\"The sum is \"+ str(int(num1) + int(num2)))\n",
    "\n",
    "    elif operation == '2':\n",
    "\n",
    "        num1 = input(\"Enter first number: \")\n",
    "        num2 = input(\"Enter second number: \")\n",
    "\n",
    "        print(\"The difference is \" + str(int(num1) - int(num2)))\n",
    "\n",
    "    elif operation == '3':\n",
    "\n",
    "        num1 = input(\"Enter first number: \")\n",
    "        num2 = input(\"Enter second number: \")\n",
    "\n",
    "        print(\"The multiplication is \" + str(int(num1) * int(num2)))\n",
    "\n",
    "    elif operation == '4':\n",
    "\n",
    "        num1 = input(\"Enter first number: \")\n",
    "        num2 = input(\"Enter second number: \")\n",
    "\n",
    "        print(\"The division is \" + str(int(num1) / int(num2)))\n",
    "    \n",
    "    elif operation == '5':\n",
    "        ask_user = input(\"\\nAre you sure to exit?(Y/N):\").lower()\n",
    "        if ask_user == \"y\":\n",
    "            running = False\n",
    "            print(\"Exit.\")\n",
    "\n",
    "    else:\n",
    "\n",
    "        print(\"Invalid Entry\")"
   ]
  },
  {
   "cell_type": "code",
   "execution_count": null,
   "id": "8ef34622",
   "metadata": {},
   "outputs": [],
   "source": []
  },
  {
   "cell_type": "code",
   "execution_count": null,
   "id": "2eb0b064",
   "metadata": {},
   "outputs": [],
   "source": []
  }
 ],
 "metadata": {
  "kernelspec": {
   "display_name": "Python 3 (ipykernel)",
   "language": "python",
   "name": "python3"
  },
  "language_info": {
   "codemirror_mode": {
    "name": "ipython",
    "version": 3
   },
   "file_extension": ".py",
   "mimetype": "text/x-python",
   "name": "python",
   "nbconvert_exporter": "python",
   "pygments_lexer": "ipython3",
   "version": "3.9.13"
  }
 },
 "nbformat": 4,
 "nbformat_minor": 5
}
