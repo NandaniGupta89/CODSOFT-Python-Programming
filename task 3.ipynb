{
 "cells": [
  {
   "cell_type": "code",
   "execution_count": 7,
   "id": "3484a9c8",
   "metadata": {},
   "outputs": [
    {
     "name": "stdout",
     "output_type": "stream",
     "text": [
      "Enter Length: 2\n",
      "Generated password: N'\n"
     ]
    }
   ],
   "source": [
    "import random\n",
    "\n",
    "import string\n",
    "\n",
    "len = int(input(\"Enter Length: \"))\n",
    "\n",
    "chars = string.ascii_letters\n",
    "\n",
    "chars += string.digits\n",
    "\n",
    "chars += string.punctuation\n",
    "\n",
    "password = \"\"\n",
    "\n",
    "for i in range(len):\n",
    "    password += random.choice(chars)\n",
    "print(\"Generated password:\", password)"
   ]
  },
  {
   "cell_type": "code",
   "execution_count": null,
   "id": "c26113fc",
   "metadata": {},
   "outputs": [],
   "source": []
  }
 ],
 "metadata": {
  "kernelspec": {
   "display_name": "Python 3 (ipykernel)",
   "language": "python",
   "name": "python3"
  },
  "language_info": {
   "codemirror_mode": {
    "name": "ipython",
    "version": 3
   },
   "file_extension": ".py",
   "mimetype": "text/x-python",
   "name": "python",
   "nbconvert_exporter": "python",
   "pygments_lexer": "ipython3",
   "version": "3.9.13"
  }
 },
 "nbformat": 4,
 "nbformat_minor": 5
}
